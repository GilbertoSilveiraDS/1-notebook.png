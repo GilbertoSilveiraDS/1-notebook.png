{
 "cells": [
  {
   "cell_type": "markdown",
   "id": "22cda11a",
   "metadata": {},
   "source": [
    "# Data Science Tools and Ecosystem"
   ]
  },
  {
   "cell_type": "markdown",
   "id": "cafbe3f4",
   "metadata": {},
   "source": [
    "In this notebook, Data Science Tools and Ecosystem are summarized."
   ]
  },
  {
   "cell_type": "markdown",
   "id": "11e53f71",
   "metadata": {},
   "source": [
    "<b>Objectives:</b> \n",
    "<ul>\n",
    "<li>Create a code cell to convert minutes to hours</li>\n",
    "<li>Create a code cell to multiply and add numbers</li>\n",
    "<li> list data science libraries</li>\n",
    "</ul>\n"
   ]
  },
  {
   "cell_type": "markdown",
   "id": "43a0e96e",
   "metadata": {},
   "source": [
    "Some of the popular languages that Data Scientists use are:\n",
    "<ol>\n",
    "<li>Python</li>\n",
    "<li>R</li>\n",
    "<li>SQL</li>\n",
    "</ol>"
   ]
  },
  {
   "cell_type": "markdown",
   "id": "fba5dd7e",
   "metadata": {},
   "source": [
    "Some of the commonly used libraries used by Data Scientists include:\n",
    "<ul>\n",
    "<li>Pandas</li>\n",
    "<li>Numpy</li>\n",
    "<li>Matplotlib</li>\n",
    "</ul>"
   ]
  },
  {
   "cell_type": "markdown",
   "id": "943ae765",
   "metadata": {},
   "source": [
    "|Data Science Tools|\n",
    "|-|\n",
    "|RStudio|\n",
    "|Apache Spark|\n",
    "|TensorFlow|"
   ]
  },
  {
   "cell_type": "markdown",
   "id": "3bcace5f",
   "metadata": {},
   "source": [
    "### Below are a few examples of evaluating arithmetic expressions in Python"
   ]
  },
  {
   "cell_type": "code",
   "execution_count": 10,
   "id": "c963179e",
   "metadata": {},
   "outputs": [
    {
     "data": {
      "text/plain": [
       "17"
      ]
     },
     "execution_count": 10,
     "metadata": {},
     "output_type": "execute_result"
    }
   ],
   "source": [
    "(3*4)+5\n",
    "# This a simple arithmetic expression to mutiply then add integers"
   ]
  },
  {
   "cell_type": "code",
   "execution_count": 11,
   "id": "bcd5a36e",
   "metadata": {},
   "outputs": [
    {
     "name": "stdout",
     "output_type": "stream",
     "text": [
      "200 minutos são 3 horas e 20 minutos\n"
     ]
    }
   ],
   "source": [
    "minutos = 200\n",
    "horas = minutos // 60\n",
    "minutos_restantes = minutos % 60\n",
    "print(f\"{minutos} minutos são {horas} horas e {minutos_restantes} minutos\")\n",
    "# This will convert 200 minutes to hours by diving by 60"
   ]
  },
  {
   "cell_type": "markdown",
   "id": "79ebe0e3",
   "metadata": {},
   "source": [
    "## Author\n",
    "gilberto"
   ]
  },
  {
   "cell_type": "code",
   "execution_count": null,
   "id": "cdf178a7",
   "metadata": {},
   "outputs": [],
   "source": []
  }
 ],
 "metadata": {
  "kernelspec": {
   "display_name": "Python 3 (ipykernel)",
   "language": "python",
   "name": "python3"
  },
  "language_info": {
   "codemirror_mode": {
    "name": "ipython",
    "version": 3
   },
   "file_extension": ".py",
   "mimetype": "text/x-python",
   "name": "python",
   "nbconvert_exporter": "python",
   "pygments_lexer": "ipython3",
   "version": "3.9.12"
  }
 },
 "nbformat": 4,
 "nbformat_minor": 5
}
